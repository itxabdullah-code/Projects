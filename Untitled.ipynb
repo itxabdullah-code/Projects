{
 "cells": [
  {
   "cell_type": "markdown",
   "id": "e5ef150c-2a44-420a-8348-86c2d07e282a",
   "metadata": {},
   "source": [
    "<!--%%html-->\n",
    "<h2 style=\"background-color:lightyellow; color:red; text-align:center \">Variables</b>"
   ]
  },
  {
   "cell_type": "code",
   "execution_count": 79,
   "id": "7f16718d-2395-4c8f-b58d-252b49419610",
   "metadata": {
    "scrolled": true
   },
   "outputs": [
    {
     "name": "stdout",
     "output_type": "stream",
     "text": [
      "String:  It is String \n",
      "Integer:  24 \n",
      "Float:  23.4 \n",
      "Bolean:  True\n"
     ]
    }
   ],
   "source": [
    "var=\"It is String\"\n",
    "var1=int(24)\n",
    "var2=float(23.4)\n",
    "var3=True\n",
    "print(\"String: \",var,\"\\nInteger: \",var1,\"\\nFloat: \",var2,\"\\nBolean: \",var3) "
   ]
  },
  {
   "attachments": {},
   "cell_type": "markdown",
   "id": "f21e2be9-d3f8-4848-a11a-3e6b132e0789",
   "metadata": {},
   "source": [
    "<h2 style=\"background-color:lightyellow; color:red; text-align:center \">Basic Operation In Programming</h2>\n",
    "<h3>Arithmetic Operations: (+, -, *, /, %, **)<br</h3>\n",
    "<h3>Comparison Operations: (==, !=, >, <, >=, <=)</h3>\n",
    "<h3>Logical Operations: (and, or, not)</h3>\n",
    "<h3>Assignment Operators: (=, +=, -=, *=, /=)</h3>\n"
   ]
  },
  {
   "cell_type": "code",
   "execution_count": 141,
   "id": "8be3c872-5a30-40ea-a748-7c65cde8e2dc",
   "metadata": {},
   "outputs": [
    {
     "name": "stdout",
     "output_type": "stream",
     "text": [
      "\n",
      "Arithmetic Operations\n",
      "200\n",
      "50\n",
      "1.6666666666666667\n",
      "1\n",
      "9375\n",
      "\n",
      "Comparison Operations\n",
      "False\n",
      "True\n",
      "True\n",
      "False\n",
      "True\n",
      "False\n",
      "\n",
      "Logical Operations\n",
      "125\n",
      "125\n",
      "True\n",
      "\n",
      "Assignment Operators\n",
      "200\n",
      "75\n"
     ]
    }
   ],
   "source": [
    "var1=int(125)\n",
    "var2=int(75)\n",
    "print(\"\\nArithmetic Operations\")\n",
    "print(var1+var2)\n",
    "print(var1-var2)\n",
    "print(var1/var2)\n",
    "print(var1//var2)\n",
    "print(var1*var2)\n",
    "print(\"\\nComparison Operations\")\n",
    "print(var1==var2)\n",
    "print(var1!=var2)\n",
    "print(var1>var2)\n",
    "print(var1<var2)\n",
    "print(var1>=var2)\n",
    "print(var1<=var2)\n",
    "print(\"\\nLogical Operations\")\n",
    "print(var1 and int(125))       #\"and\" Return First Value if condition is true value match otherwise give us second value\n",
    "print(var1 or var2)       \n",
    "print( not not var2)       #Reverse the output of condtion    \n",
    "print(\"\\nAssignment Operators\")\n",
    "var1 += var2\n",
    "print(var1)\n",
    "var1 =+ var2\n",
    "print(var1)\n",
    "\n",
    "\n",
    "\n",
    "\n"
   ]
  },
  {
   "cell_type": "code",
   "execution_count": null,
   "id": "e75cedb2-5dae-417c-80f7-d1b80f305d10",
   "metadata": {},
   "outputs": [],
   "source": []
  }
 ],
 "metadata": {
  "kernelspec": {
   "display_name": "Python [conda env:base] *",
   "language": "python",
   "name": "conda-base-py"
  },
  "language_info": {
   "codemirror_mode": {
    "name": "ipython",
    "version": 3
   },
   "file_extension": ".py",
   "mimetype": "text/x-python",
   "name": "python",
   "nbconvert_exporter": "python",
   "pygments_lexer": "ipython3",
   "version": "3.12.7"
  }
 },
 "nbformat": 4,
 "nbformat_minor": 5
}
